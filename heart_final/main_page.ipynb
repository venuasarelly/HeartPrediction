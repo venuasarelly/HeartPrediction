{
 "cells": [
  {
   "cell_type": "code",
   "execution_count": null,
   "id": "ed9d486f",
   "metadata": {},
   "outputs": [
    {
     "name": "stderr",
     "output_type": "stream",
     "text": [
      " * Running on http://localhost:9000/ (Press CTRL+C to quit)\n",
      "127.0.0.1 - - [25/Jul/2022 10:01:23] \"GET / HTTP/1.1\" 200 -\n",
      "127.0.0.1 - - [25/Jul/2022 10:01:23] \"GET /styles.css HTTP/1.1\" 404 -\n"
     ]
    }
   ],
   "source": [
    "\n",
    "import numpy as np \n",
    "from werkzeug.wrappers import Request, Response\n",
    "from flask import Flask, request , render_template\n",
    "import pickle\n",
    "app = Flask(__name__)\n",
    "sc = pickle.load(open('st.pkl', 'rb'))\n",
    "model = pickle.load(open('model.pkl','rb'))\n",
    "\n",
    "\n",
    "@app.route('/')\n",
    "def home():\n",
    "    return render_template('indexs.html')\n",
    "\n",
    "@app.route('/predict',methods=['POST'])  \n",
    "def predict():\n",
    "    lst = []\n",
    "    cp = int(request.form['chest pain type (4 values)'])\n",
    "    if cp == 0 :\n",
    "        lst += [1,0,0,0]\n",
    "    elif cp == 1:\n",
    "        lst += [0,1,0,0]\n",
    "    elif cp == 2:\n",
    "        lst += [0,0,1,0]\n",
    "    elif cp>= 3: \n",
    "        lst += [0,0,0,1]  \n",
    "    trestbps = int(request.form[\"resting blood pressure\"])\n",
    "    lst += [trestbps]\n",
    "    chol = int(request.form[\"serum cholestoral in mg/dl\"])\n",
    "    lst += [chol]\n",
    "    fbs = int(request.form[\"fasting blood sugar > 120 mg/dl\"])\n",
    "    if fbs == 0:\n",
    "        lst+= [1,0]\n",
    "    else:\n",
    "        lst+=[0,1]\n",
    "    restecg = int(request.form[\"resting electrocardiographic results (values 0,1)\"])        \n",
    "    if restecg == 0:\n",
    "        lst+=[1,0,0]\n",
    "    elif restecg == 1:\n",
    "        lst+=[0,1,0]\n",
    "    else:\n",
    "        lst+=[0,0,1]\n",
    "    thalach = int(request.form[\"maximum heart rate achieved\"])\n",
    "    lst+=[thalach]\n",
    "    exang = int(request.form[\"exercise induced angina\"])\n",
    "    if exang ==0:\n",
    "        lst+= [1,0]\n",
    "    else:\n",
    "        lst+=[0,1]\n",
    "    final_features = np.array([lst])\n",
    "    pred = model.predict(sc.transform(final_features))\n",
    "    print(pred)\n",
    "    return render_template('result.html',predict=pred)\n",
    "if __name__ == \"__main__\":\n",
    "   \n",
    "   from werkzeug.serving import run_simple\n",
    "   run_simple('localhost', 9000, app) \n",
    "app.run(debug=True)\n",
    "\n"
   ]
  },
  {
   "cell_type": "code",
   "execution_count": null,
   "id": "cc0d8b8e",
   "metadata": {},
   "outputs": [],
   "source": []
  },
  {
   "cell_type": "code",
   "execution_count": null,
   "id": "c5e2f9ad",
   "metadata": {},
   "outputs": [],
   "source": []
  }
 ],
 "metadata": {
  "kernelspec": {
   "display_name": "Python 3 (ipykernel)",
   "language": "python",
   "name": "python3"
  },
  "language_info": {
   "codemirror_mode": {
    "name": "ipython",
    "version": 3
   },
   "file_extension": ".py",
   "mimetype": "text/x-python",
   "name": "python",
   "nbconvert_exporter": "python",
   "pygments_lexer": "ipython3",
   "version": "3.9.12"
  }
 },
 "nbformat": 4,
 "nbformat_minor": 5
}
